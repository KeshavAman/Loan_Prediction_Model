{
  "nbformat": 4,
  "nbformat_minor": 0,
  "metadata": {
    "colab": {
      "name": "Loan_Prediction_Model.ipynb",
      "provenance": [],
      "authorship_tag": "ABX9TyNc7j1iyPa44WGD83uY5fje",
      "include_colab_link": true
    },
    "kernelspec": {
      "name": "python3",
      "display_name": "Python 3"
    },
    "language_info": {
      "name": "python"
    }
  },
  "cells": [
    {
      "cell_type": "markdown",
      "metadata": {
        "id": "view-in-github",
        "colab_type": "text"
      },
      "source": [
        "<a href=\"https://colab.research.google.com/github/KeshavAman/Loan_Prediction_Model/blob/main/Loan_Prediction_Model.ipynb\" target=\"_parent\"><img src=\"https://colab.research.google.com/assets/colab-badge.svg\" alt=\"Open In Colab\"/></a>"
      ]
    },
    {
      "cell_type": "markdown",
      "source": [
        "**Importing Libraries**"
      ],
      "metadata": {
        "id": "ykBRSriM2EYm"
      }
    },
    {
      "cell_type": "code",
      "execution_count": 1,
      "metadata": {
        "id": "2dZbuY9HxW3A"
      },
      "outputs": [],
      "source": [
        "import numpy as np\n",
        "import pandas as pd\n",
        "import seaborn as sns\n",
        "import matplotlib.pyplot as plt\n",
        "import scipy.stats as stat\n",
        "from sklearn.model_selection import train_test_split\n",
        "from sklearn.linear_model import LogisticRegression\n",
        "from sklearn.ensemble import RandomForestClassifier\n",
        "from sklearn.ensemble import GradientBoostingClassifier\n",
        "from sklearn.tree import DecisionTreeClassifier\n",
        "from sklearn.preprocessing import StandardScaler\n",
        "from imblearn.over_sampling import SMOTE\n",
        "from sklearn.metrics import classification_report,confusion_matrix,f1_score\n",
        "import warnings\n",
        "warnings.filterwarnings('ignore')"
      ]
    },
    {
      "cell_type": "markdown",
      "source": [
        "**Importing Dataset**"
      ],
      "metadata": {
        "id": "68NhD86t2Nrq"
      }
    },
    {
      "cell_type": "code",
      "source": [
        "df = pd.read_csv('https://raw.githubusercontent.com/KeshavAman/file/main/train.csv')\n",
        "df.head()"
      ],
      "metadata": {
        "colab": {
          "base_uri": "https://localhost:8080/",
          "height": 288
        },
        "id": "GEKmg85tzytF",
        "outputId": "628d5d1d-7c33-4958-c511-b2b1b5e305d9"
      },
      "execution_count": 2,
      "outputs": [
        {
          "output_type": "execute_result",
          "data": {
            "text/plain": [
              "    Loan_ID Gender Married Dependents     Education Self_Employed  \\\n",
              "0  LP001002   Male      No          0      Graduate            No   \n",
              "1  LP001003   Male     Yes          1      Graduate            No   \n",
              "2  LP001005   Male     Yes          0      Graduate           Yes   \n",
              "3  LP001006   Male     Yes          0  Not Graduate            No   \n",
              "4  LP001008   Male      No          0      Graduate            No   \n",
              "\n",
              "   ApplicantIncome  CoapplicantIncome  LoanAmount  Loan_Amount_Term  \\\n",
              "0             5849                0.0         NaN             360.0   \n",
              "1             4583             1508.0       128.0             360.0   \n",
              "2             3000                0.0        66.0             360.0   \n",
              "3             2583             2358.0       120.0             360.0   \n",
              "4             6000                0.0       141.0             360.0   \n",
              "\n",
              "   Credit_History Property_Area Loan_Status  \n",
              "0             1.0         Urban           Y  \n",
              "1             1.0         Rural           N  \n",
              "2             1.0         Urban           Y  \n",
              "3             1.0         Urban           Y  \n",
              "4             1.0         Urban           Y  "
            ],
            "text/html": [
              "\n",
              "  <div id=\"df-c58d7e35-26f2-4c01-b7e5-32a2f4291a23\">\n",
              "    <div class=\"colab-df-container\">\n",
              "      <div>\n",
              "<style scoped>\n",
              "    .dataframe tbody tr th:only-of-type {\n",
              "        vertical-align: middle;\n",
              "    }\n",
              "\n",
              "    .dataframe tbody tr th {\n",
              "        vertical-align: top;\n",
              "    }\n",
              "\n",
              "    .dataframe thead th {\n",
              "        text-align: right;\n",
              "    }\n",
              "</style>\n",
              "<table border=\"1\" class=\"dataframe\">\n",
              "  <thead>\n",
              "    <tr style=\"text-align: right;\">\n",
              "      <th></th>\n",
              "      <th>Loan_ID</th>\n",
              "      <th>Gender</th>\n",
              "      <th>Married</th>\n",
              "      <th>Dependents</th>\n",
              "      <th>Education</th>\n",
              "      <th>Self_Employed</th>\n",
              "      <th>ApplicantIncome</th>\n",
              "      <th>CoapplicantIncome</th>\n",
              "      <th>LoanAmount</th>\n",
              "      <th>Loan_Amount_Term</th>\n",
              "      <th>Credit_History</th>\n",
              "      <th>Property_Area</th>\n",
              "      <th>Loan_Status</th>\n",
              "    </tr>\n",
              "  </thead>\n",
              "  <tbody>\n",
              "    <tr>\n",
              "      <th>0</th>\n",
              "      <td>LP001002</td>\n",
              "      <td>Male</td>\n",
              "      <td>No</td>\n",
              "      <td>0</td>\n",
              "      <td>Graduate</td>\n",
              "      <td>No</td>\n",
              "      <td>5849</td>\n",
              "      <td>0.0</td>\n",
              "      <td>NaN</td>\n",
              "      <td>360.0</td>\n",
              "      <td>1.0</td>\n",
              "      <td>Urban</td>\n",
              "      <td>Y</td>\n",
              "    </tr>\n",
              "    <tr>\n",
              "      <th>1</th>\n",
              "      <td>LP001003</td>\n",
              "      <td>Male</td>\n",
              "      <td>Yes</td>\n",
              "      <td>1</td>\n",
              "      <td>Graduate</td>\n",
              "      <td>No</td>\n",
              "      <td>4583</td>\n",
              "      <td>1508.0</td>\n",
              "      <td>128.0</td>\n",
              "      <td>360.0</td>\n",
              "      <td>1.0</td>\n",
              "      <td>Rural</td>\n",
              "      <td>N</td>\n",
              "    </tr>\n",
              "    <tr>\n",
              "      <th>2</th>\n",
              "      <td>LP001005</td>\n",
              "      <td>Male</td>\n",
              "      <td>Yes</td>\n",
              "      <td>0</td>\n",
              "      <td>Graduate</td>\n",
              "      <td>Yes</td>\n",
              "      <td>3000</td>\n",
              "      <td>0.0</td>\n",
              "      <td>66.0</td>\n",
              "      <td>360.0</td>\n",
              "      <td>1.0</td>\n",
              "      <td>Urban</td>\n",
              "      <td>Y</td>\n",
              "    </tr>\n",
              "    <tr>\n",
              "      <th>3</th>\n",
              "      <td>LP001006</td>\n",
              "      <td>Male</td>\n",
              "      <td>Yes</td>\n",
              "      <td>0</td>\n",
              "      <td>Not Graduate</td>\n",
              "      <td>No</td>\n",
              "      <td>2583</td>\n",
              "      <td>2358.0</td>\n",
              "      <td>120.0</td>\n",
              "      <td>360.0</td>\n",
              "      <td>1.0</td>\n",
              "      <td>Urban</td>\n",
              "      <td>Y</td>\n",
              "    </tr>\n",
              "    <tr>\n",
              "      <th>4</th>\n",
              "      <td>LP001008</td>\n",
              "      <td>Male</td>\n",
              "      <td>No</td>\n",
              "      <td>0</td>\n",
              "      <td>Graduate</td>\n",
              "      <td>No</td>\n",
              "      <td>6000</td>\n",
              "      <td>0.0</td>\n",
              "      <td>141.0</td>\n",
              "      <td>360.0</td>\n",
              "      <td>1.0</td>\n",
              "      <td>Urban</td>\n",
              "      <td>Y</td>\n",
              "    </tr>\n",
              "  </tbody>\n",
              "</table>\n",
              "</div>\n",
              "      <button class=\"colab-df-convert\" onclick=\"convertToInteractive('df-c58d7e35-26f2-4c01-b7e5-32a2f4291a23')\"\n",
              "              title=\"Convert this dataframe to an interactive table.\"\n",
              "              style=\"display:none;\">\n",
              "        \n",
              "  <svg xmlns=\"http://www.w3.org/2000/svg\" height=\"24px\"viewBox=\"0 0 24 24\"\n",
              "       width=\"24px\">\n",
              "    <path d=\"M0 0h24v24H0V0z\" fill=\"none\"/>\n",
              "    <path d=\"M18.56 5.44l.94 2.06.94-2.06 2.06-.94-2.06-.94-.94-2.06-.94 2.06-2.06.94zm-11 1L8.5 8.5l.94-2.06 2.06-.94-2.06-.94L8.5 2.5l-.94 2.06-2.06.94zm10 10l.94 2.06.94-2.06 2.06-.94-2.06-.94-.94-2.06-.94 2.06-2.06.94z\"/><path d=\"M17.41 7.96l-1.37-1.37c-.4-.4-.92-.59-1.43-.59-.52 0-1.04.2-1.43.59L10.3 9.45l-7.72 7.72c-.78.78-.78 2.05 0 2.83L4 21.41c.39.39.9.59 1.41.59.51 0 1.02-.2 1.41-.59l7.78-7.78 2.81-2.81c.8-.78.8-2.07 0-2.86zM5.41 20L4 18.59l7.72-7.72 1.47 1.35L5.41 20z\"/>\n",
              "  </svg>\n",
              "      </button>\n",
              "      \n",
              "  <style>\n",
              "    .colab-df-container {\n",
              "      display:flex;\n",
              "      flex-wrap:wrap;\n",
              "      gap: 12px;\n",
              "    }\n",
              "\n",
              "    .colab-df-convert {\n",
              "      background-color: #E8F0FE;\n",
              "      border: none;\n",
              "      border-radius: 50%;\n",
              "      cursor: pointer;\n",
              "      display: none;\n",
              "      fill: #1967D2;\n",
              "      height: 32px;\n",
              "      padding: 0 0 0 0;\n",
              "      width: 32px;\n",
              "    }\n",
              "\n",
              "    .colab-df-convert:hover {\n",
              "      background-color: #E2EBFA;\n",
              "      box-shadow: 0px 1px 2px rgba(60, 64, 67, 0.3), 0px 1px 3px 1px rgba(60, 64, 67, 0.15);\n",
              "      fill: #174EA6;\n",
              "    }\n",
              "\n",
              "    [theme=dark] .colab-df-convert {\n",
              "      background-color: #3B4455;\n",
              "      fill: #D2E3FC;\n",
              "    }\n",
              "\n",
              "    [theme=dark] .colab-df-convert:hover {\n",
              "      background-color: #434B5C;\n",
              "      box-shadow: 0px 1px 3px 1px rgba(0, 0, 0, 0.15);\n",
              "      filter: drop-shadow(0px 1px 2px rgba(0, 0, 0, 0.3));\n",
              "      fill: #FFFFFF;\n",
              "    }\n",
              "  </style>\n",
              "\n",
              "      <script>\n",
              "        const buttonEl =\n",
              "          document.querySelector('#df-c58d7e35-26f2-4c01-b7e5-32a2f4291a23 button.colab-df-convert');\n",
              "        buttonEl.style.display =\n",
              "          google.colab.kernel.accessAllowed ? 'block' : 'none';\n",
              "\n",
              "        async function convertToInteractive(key) {\n",
              "          const element = document.querySelector('#df-c58d7e35-26f2-4c01-b7e5-32a2f4291a23');\n",
              "          const dataTable =\n",
              "            await google.colab.kernel.invokeFunction('convertToInteractive',\n",
              "                                                     [key], {});\n",
              "          if (!dataTable) return;\n",
              "\n",
              "          const docLinkHtml = 'Like what you see? Visit the ' +\n",
              "            '<a target=\"_blank\" href=https://colab.research.google.com/notebooks/data_table.ipynb>data table notebook</a>'\n",
              "            + ' to learn more about interactive tables.';\n",
              "          element.innerHTML = '';\n",
              "          dataTable['output_type'] = 'display_data';\n",
              "          await google.colab.output.renderOutput(dataTable, element);\n",
              "          const docLink = document.createElement('div');\n",
              "          docLink.innerHTML = docLinkHtml;\n",
              "          element.appendChild(docLink);\n",
              "        }\n",
              "      </script>\n",
              "    </div>\n",
              "  </div>\n",
              "  "
            ]
          },
          "metadata": {},
          "execution_count": 2
        }
      ]
    },
    {
      "cell_type": "markdown",
      "source": [
        "**Shape of Dataset**"
      ],
      "metadata": {
        "id": "_MgOlyjz2VmD"
      }
    },
    {
      "cell_type": "code",
      "source": [
        "df.shape"
      ],
      "metadata": {
        "colab": {
          "base_uri": "https://localhost:8080/"
        },
        "id": "h3ks9NBv0F2p",
        "outputId": "f4959dd8-3f71-4126-9980-d037493b0a40"
      },
      "execution_count": 4,
      "outputs": [
        {
          "output_type": "execute_result",
          "data": {
            "text/plain": [
              "(614, 13)"
            ]
          },
          "metadata": {},
          "execution_count": 4
        }
      ]
    },
    {
      "cell_type": "markdown",
      "source": [
        "**Impact of categories in variables**"
      ],
      "metadata": {
        "id": "pb7K6yKK2bwL"
      }
    },
    {
      "cell_type": "code",
      "source": [
        "plt.figure(figsize=(18,10))\n",
        "plt.subplot(231)\n",
        "df['Gender'].value_counts().plot(kind='pie',shadow=True,autopct = '%.2f%%',colors=['orange','y'])\n",
        "\n",
        "plt.subplot(232)\n",
        "df['Married'].value_counts().plot(kind='pie',shadow=True,autopct = '%.2f%%')\n",
        "\n",
        "plt.subplot(233)\n",
        "df['Education'].value_counts().plot(kind='pie',shadow=True,autopct = '%.2f%%',colors=['m','violet'])\n",
        "\n",
        "plt.subplot(234)\n",
        "df['Self_Employed'].value_counts().plot(kind='pie',shadow=True,autopct = '%.2f%%',colors=['orange','y'])\n",
        "\n",
        "plt.subplot(235)\n",
        "df['Property_Area'].value_counts().plot(kind='pie',shadow=True,autopct = '%.2f%%')\n",
        "\n",
        "plt.subplot(236)\n",
        "df['Loan_Status'].value_counts().plot(kind='pie',shadow=True,autopct = '%.2f%%',colors=['m','violet'])\n",
        "plt.suptitle('Univariate Analysis - Impact of categories',fontsize = 20)\n",
        "plt.show()"
      ],
      "metadata": {
        "colab": {
          "base_uri": "https://localhost:8080/",
          "height": 646
        },
        "id": "6qLcnC990J3y",
        "outputId": "419d4f6c-d21d-4423-8282-daf64c091548"
      },
      "execution_count": 5,
      "outputs": [
        {
          "output_type": "display_data",
          "data": {
            "text/plain": [
              "<Figure size 1296x720 with 6 Axes>"
            ],
            "image/png": "[encoded data removed]"
          },
          "metadata": {}
        }
      ]
    },
    {
      "cell_type": "markdown",
      "source": [
        "**Checking Distribution of variables**"
      ],
      "metadata": {
        "id": "d5SC7Smp2jRG"
      }
    },
    {
      "cell_type": "code",
      "source": [
        "plt.figure(figsize=(20,10))\n",
        "plt.subplot(221)\n",
        "sns.distplot(df['ApplicantIncome'],color='black')\n",
        "\n",
        "plt.subplot(222)\n",
        "sns.distplot(df['CoapplicantIncome'],color='m')\n",
        "\n",
        "plt.subplot(223)\n",
        "sns.distplot(df['LoanAmount'],color='g')\n",
        "\n",
        "plt.subplot(224)\n",
        "sns.distplot(df['Loan_Amount_Term'],color='r')\n",
        "plt.suptitle('Univariate Analysis - Distplot',fontsize = 20)\n",
        "plt.show()"
      ],
      "metadata": {
        "colab": {
          "base_uri": "https://localhost:8080/",
          "height": 678
        },
        "id": "164JcF250RSg",
        "outputId": "b8427b80-e24f-4f41-8f58-011854fa04d9"
      },
      "execution_count": 6,
      "outputs": [
        {
          "output_type": "display_data",
          "data": {
            "text/plain": [
              "<Figure size 1440x720 with 4 Axes>"
            ],
            "image/png": "[encoded data removed]"
          },
          "metadata": {
            "needs_background": "light"
          }
        }
      ]
    },
    {
      "cell_type": "markdown",
      "source": [
        "**Comparing variables with Loan status**"
      ],
      "metadata": {
        "id": "yKxPgnQz2o3v"
      }
    },
    {
      "cell_type": "code",
      "source": [
        "plt.figure(figsize=(20,10))\n",
        "plt.subplot(231)\n",
        "sns.countplot(df['Gender'],hue=df['Loan_Status'],palette='rocket_r')\n",
        "\n",
        "plt.subplot(232)\n",
        "sns.countplot(df['Married'],hue=df['Loan_Status'],palette='viridis')\n",
        "\n",
        "plt.subplot(233)\n",
        "sns.countplot(df['Education'],hue=df['Loan_Status'],palette='cubehelix')\n",
        "\n",
        "plt.subplot(234)\n",
        "sns.countplot(df['Self_Employed'],hue=df['Loan_Status'],palette='rocket_r')\n",
        "\n",
        "plt.subplot(235)\n",
        "sns.countplot(df['Credit_History'],hue=df['Loan_Status'],palette='viridis')\n",
        "\n",
        "plt.subplot(236)\n",
        "sns.countplot(df['Property_Area'],hue=df['Loan_Status'],palette='cubehelix')\n",
        "plt.suptitle('Bivariate Analysis - Count plot',fontsize = 20)\n",
        "plt.show()"
      ],
      "metadata": {
        "colab": {
          "base_uri": "https://localhost:8080/",
          "height": 678
        },
        "id": "KZKQPDi00XUx",
        "outputId": "dedaad17-b397-45b1-8e91-b8ccab8940da"
      },
      "execution_count": 7,
      "outputs": [
        {
          "output_type": "display_data",
          "data": {
            "text/plain": [
              "<Figure size 1440x720 with 6 Axes>"
            ],
            "image/png": "[encoded data removed]"
          },
          "metadata": {
            "needs_background": "light"
          }
        }
      ]
    },
    {
      "cell_type": "markdown",
      "source": [
        "**Removing the outliers from data**"
      ],
      "metadata": {
        "id": "13k1x_OO2wjr"
      }
    },
    {
      "cell_type": "code",
      "source": [
        "print('Before removing outliers {}'.format(df.shape))\n",
        "df=df[df['ApplicantIncome']<20000]\n",
        "df=df[df['CoapplicantIncome']<10000]\n",
        "df=df[df['LoanAmount']<350]\n",
        "print('After removing outliers {}'.format(df.shape))"
      ],
      "metadata": {
        "colab": {
          "base_uri": "https://localhost:8080/"
        },
        "id": "z_HW-fMX0gE1",
        "outputId": "33fb93dc-ea14-44dd-eca8-c8bb0239409b"
      },
      "execution_count": 8,
      "outputs": [
        {
          "output_type": "stream",
          "name": "stdout",
          "text": [
            "Before removing outliers (614, 13)\n",
            "After removing outliers (565, 13)\n"
          ]
        }
      ]
    },
    {
      "cell_type": "markdown",
      "source": [
        "**Checking for null variables in dataset**"
      ],
      "metadata": {
        "id": "n-qVkyt920qM"
      }
    },
    {
      "cell_type": "code",
      "source": [
        "df.drop('Loan_ID',axis=1,inplace=True)"
      ],
      "metadata": {
        "id": "8FhtQRgG0nFX"
      },
      "execution_count": 9,
      "outputs": []
    },
    {
      "cell_type": "code",
      "source": [
        "df.isnull().sum()"
      ],
      "metadata": {
        "colab": {
          "base_uri": "https://localhost:8080/"
        },
        "id": "aKx5g9hf0sXi",
        "outputId": "38db5533-1a24-4d0f-9259-2a64342d13e8"
      },
      "execution_count": 10,
      "outputs": [
        {
          "output_type": "execute_result",
          "data": {
            "text/plain": [
              "Gender               11\n",
              "Married               2\n",
              "Dependents           13\n",
              "Education             0\n",
              "Self_Employed        28\n",
              "ApplicantIncome       0\n",
              "CoapplicantIncome     0\n",
              "LoanAmount            0\n",
              "Loan_Amount_Term     14\n",
              "Credit_History       46\n",
              "Property_Area         0\n",
              "Loan_Status           0\n",
              "dtype: int64"
            ]
          },
          "metadata": {},
          "execution_count": 10
        }
      ]
    },
    {
      "cell_type": "markdown",
      "source": [
        "**Assigning values for null values**"
      ],
      "metadata": {
        "id": "SFlDOHie27v4"
      }
    },
    {
      "cell_type": "code",
      "source": [
        "df['Gender']=df['Gender'].fillna(df['Gender'].mode()[0])\n",
        "df['Married']=df['Married'].fillna(df['Married'].mode()[0])\n",
        "df['Dependents']=df['Dependents'].fillna(df['Dependents'].mode()[0])\n",
        "df['Self_Employed']=df['Self_Employed'].fillna(df['Self_Employed'].mode()[0])\n",
        "df['Loan_Amount_Term']=df['Loan_Amount_Term'].fillna(df['Loan_Amount_Term'].median())\n",
        "df['Credit_History']=df['Credit_History'].fillna(df['Credit_History'].median())"
      ],
      "metadata": {
        "id": "gmmG3x_b0yCR"
      },
      "execution_count": 11,
      "outputs": []
    },
    {
      "cell_type": "code",
      "source": [
        "df.isnull().sum().sum()"
      ],
      "metadata": {
        "colab": {
          "base_uri": "https://localhost:8080/"
        },
        "id": "n5pOWtTR01Zz",
        "outputId": "e3bad27e-f075-483b-989c-e9181fbd4197"
      },
      "execution_count": 12,
      "outputs": [
        {
          "output_type": "execute_result",
          "data": {
            "text/plain": [
              "0"
            ]
          },
          "metadata": {},
          "execution_count": 12
        }
      ]
    },
    {
      "cell_type": "code",
      "source": [
        "df.select_dtypes(include='object').head()"
      ],
      "metadata": {
        "colab": {
          "base_uri": "https://localhost:8080/",
          "height": 206
        },
        "id": "jmLPlHz004q9",
        "outputId": "f485af51-d96d-416a-8ba1-13df17f1d683"
      },
      "execution_count": 13,
      "outputs": [
        {
          "output_type": "execute_result",
          "data": {
            "text/plain": [
              "  Gender Married Dependents     Education Self_Employed Property_Area  \\\n",
              "1   Male     Yes          1      Graduate            No         Rural   \n",
              "2   Male     Yes          0      Graduate           Yes         Urban   \n",
              "3   Male     Yes          0  Not Graduate            No         Urban   \n",
              "4   Male      No          0      Graduate            No         Urban   \n",
              "5   Male     Yes          2      Graduate           Yes         Urban   \n",
              "\n",
              "  Loan_Status  \n",
              "1           N  \n",
              "2           Y  \n",
              "3           Y  \n",
              "4           Y  \n",
              "5           Y  "
            ],
            "text/html": [
              "\n",
              "  <div id=\"df-e274b522-78ec-4cf9-a480-0c7cadb10803\">\n",
              "    <div class=\"colab-df-container\">\n",
              "      <div>\n",
              "<style scoped>\n",
              "    .dataframe tbody tr th:only-of-type {\n",
              "        vertical-align: middle;\n",
              "    }\n",
              "\n",
              "    .dataframe tbody tr th {\n",
              "        vertical-align: top;\n",
              "    }\n",
              "\n",
              "    .dataframe thead th {\n",
              "        text-align: right;\n",
              "    }\n",
              "</style>\n",
              "<table border=\"1\" class=\"dataframe\">\n",
              "  <thead>\n",
              "    <tr style=\"text-align: right;\">\n",
              "      <th></th>\n",
              "      <th>Gender</th>\n",
              "      <th>Married</th>\n",
              "      <th>Dependents</th>\n",
              "      <th>Education</th>\n",
              "      <th>Self_Employed</th>\n",
              "      <th>Property_Area</th>\n",
              "      <th>Loan_Status</th>\n",
              "    </tr>\n",
              "  </thead>\n",
              "  <tbody>\n",
              "    <tr>\n",
              "      <th>1</th>\n",
              "      <td>Male</td>\n",
              "      <td>Yes</td>\n",
              "      <td>1</td>\n",
              "      <td>Graduate</td>\n",
              "      <td>No</td>\n",
              "      <td>Rural</td>\n",
              "      <td>N</td>\n",
              "    </tr>\n",
              "    <tr>\n",
              "      <th>2</th>\n",
              "      <td>Male</td>\n",
              "      <td>Yes</td>\n",
              "      <td>0</td>\n",
              "      <td>Graduate</td>\n",
              "      <td>Yes</td>\n",
              "      <td>Urban</td>\n",
              "      <td>Y</td>\n",
              "    </tr>\n",
              "    <tr>\n",
              "      <th>3</th>\n",
              "      <td>Male</td>\n",
              "      <td>Yes</td>\n",
              "      <td>0</td>\n",
              "      <td>Not Graduate</td>\n",
              "      <td>No</td>\n",
              "      <td>Urban</td>\n",
              "      <td>Y</td>\n",
              "    </tr>\n",
              "    <tr>\n",
              "      <th>4</th>\n",
              "      <td>Male</td>\n",
              "      <td>No</td>\n",
              "      <td>0</td>\n",
              "      <td>Graduate</td>\n",
              "      <td>No</td>\n",
              "      <td>Urban</td>\n",
              "      <td>Y</td>\n",
              "    </tr>\n",
              "    <tr>\n",
              "      <th>5</th>\n",
              "      <td>Male</td>\n",
              "      <td>Yes</td>\n",
              "      <td>2</td>\n",
              "      <td>Graduate</td>\n",
              "      <td>Yes</td>\n",
              "      <td>Urban</td>\n",
              "      <td>Y</td>\n",
              "    </tr>\n",
              "  </tbody>\n",
              "</table>\n",
              "</div>\n",
              "      <button class=\"colab-df-convert\" onclick=\"convertToInteractive('df-e274b522-78ec-4cf9-a480-0c7cadb10803')\"\n",
              "              title=\"Convert this dataframe to an interactive table.\"\n",
              "              style=\"display:none;\">\n",
              "        \n",
              "  <svg xmlns=\"http://www.w3.org/2000/svg\" height=\"24px\"viewBox=\"0 0 24 24\"\n",
              "       width=\"24px\">\n",
              "    <path d=\"M0 0h24v24H0V0z\" fill=\"none\"/>\n",
              "    <path d=\"M18.56 5.44l.94 2.06.94-2.06 2.06-.94-2.06-.94-.94-2.06-.94 2.06-2.06.94zm-11 1L8.5 8.5l.94-2.06 2.06-.94-2.06-.94L8.5 2.5l-.94 2.06-2.06.94zm10 10l.94 2.06.94-2.06 2.06-.94-2.06-.94-.94-2.06-.94 2.06-2.06.94z\"/><path d=\"M17.41 7.96l-1.37-1.37c-.4-.4-.92-.59-1.43-.59-.52 0-1.04.2-1.43.59L10.3 9.45l-7.72 7.72c-.78.78-.78 2.05 0 2.83L4 21.41c.39.39.9.59 1.41.59.51 0 1.02-.2 1.41-.59l7.78-7.78 2.81-2.81c.8-.78.8-2.07 0-2.86zM5.41 20L4 18.59l7.72-7.72 1.47 1.35L5.41 20z\"/>\n",
              "  </svg>\n",
              "      </button>\n",
              "      \n",
              "  <style>\n",
              "    .colab-df-container {\n",
              "      display:flex;\n",
              "      flex-wrap:wrap;\n",
              "      gap: 12px;\n",
              "    }\n",
              "\n",
              "    .colab-df-convert {\n",
              "      background-color: #E8F0FE;\n",
              "      border: none;\n",
              "      border-radius: 50%;\n",
              "      cursor: pointer;\n",
              "      display: none;\n",
              "      fill: #1967D2;\n",
              "      height: 32px;\n",
              "      padding: 0 0 0 0;\n",
              "      width: 32px;\n",
              "    }\n",
              "\n",
              "    .colab-df-convert:hover {\n",
              "      background-color: #E2EBFA;\n",
              "      box-shadow: 0px 1px 2px rgba(60, 64, 67, 0.3), 0px 1px 3px 1px rgba(60, 64, 67, 0.15);\n",
              "      fill: #174EA6;\n",
              "    }\n",
              "\n",
              "    [theme=dark] .colab-df-convert {\n",
              "      background-color: #3B4455;\n",
              "      fill: #D2E3FC;\n",
              "    }\n",
              "\n",
              "    [theme=dark] .colab-df-convert:hover {\n",
              "      background-color: #434B5C;\n",
              "      box-shadow: 0px 1px 3px 1px rgba(0, 0, 0, 0.15);\n",
              "      filter: drop-shadow(0px 1px 2px rgba(0, 0, 0, 0.3));\n",
              "      fill: #FFFFFF;\n",
              "    }\n",
              "  </style>\n",
              "\n",
              "      <script>\n",
              "        const buttonEl =\n",
              "          document.querySelector('#df-e274b522-78ec-4cf9-a480-0c7cadb10803 button.colab-df-convert');\n",
              "        buttonEl.style.display =\n",
              "          google.colab.kernel.accessAllowed ? 'block' : 'none';\n",
              "\n",
              "        async function convertToInteractive(key) {\n",
              "          const element = document.querySelector('#df-e274b522-78ec-4cf9-a480-0c7cadb10803');\n",
              "          const dataTable =\n",
              "            await google.colab.kernel.invokeFunction('convertToInteractive',\n",
              "                                                     [key], {});\n",
              "          if (!dataTable) return;\n",
              "\n",
              "          const docLinkHtml = 'Like what you see? Visit the ' +\n",
              "            '<a target=\"_blank\" href=https://colab.research.google.com/notebooks/data_table.ipynb>data table notebook</a>'\n",
              "            + ' to learn more about interactive tables.';\n",
              "          element.innerHTML = '';\n",
              "          dataTable['output_type'] = 'display_data';\n",
              "          await google.colab.output.renderOutput(dataTable, element);\n",
              "          const docLink = document.createElement('div');\n",
              "          docLink.innerHTML = docLinkHtml;\n",
              "          element.appendChild(docLink);\n",
              "        }\n",
              "      </script>\n",
              "    </div>\n",
              "  </div>\n",
              "  "
            ]
          },
          "metadata": {},
          "execution_count": 13
        }
      ]
    },
    {
      "cell_type": "markdown",
      "source": [
        "**Converting categorical data to numerical data**"
      ],
      "metadata": {
        "id": "pEwf2JhC3AA0"
      }
    },
    {
      "cell_type": "code",
      "source": [
        "df['Gender']=df['Gender'].replace(('Male','Female'),(2,1))\n",
        "df['Married']=df['Married'].replace(('Yes','No'),(2,1))\n",
        "df['Education']=df['Education'].replace(('Graduate','Not Graduate'),(2,1))\n",
        "df['Self_Employed']=df['Self_Employed'].replace(('No','Yes'),(2,1))\n",
        "df['Property_Area']=df['Property_Area'].replace(('Semiurban','Urban','Rural'),(3,2,1))\n",
        "df['Dependents']=df['Dependents'].replace(('3+','2','1','0'),(3,2,1,0))\n",
        "df['Loan_Status']=df['Loan_Status'].replace(('Y','N'),(2,1))"
      ],
      "metadata": {
        "id": "MnY7m3ss07Is"
      },
      "execution_count": 14,
      "outputs": []
    },
    {
      "cell_type": "code",
      "source": [
        "df.head()"
      ],
      "metadata": {
        "colab": {
          "base_uri": "https://localhost:8080/",
          "height": 270
        },
        "id": "58bLKGTr0_mt",
        "outputId": "2b2d260e-ac92-4660-c422-b783634a14ce"
      },
      "execution_count": 15,
      "outputs": [
        {
          "output_type": "execute_result",
          "data": {
            "text/plain": [
              "   Gender  Married  Dependents  Education  Self_Employed  ApplicantIncome  \\\n",
              "1       2        2           1          2              2             4583   \n",
              "2       2        2           0          2              1             3000   \n",
              "3       2        2           0          1              2             2583   \n",
              "4       2        1           0          2              2             6000   \n",
              "5       2        2           2          2              1             5417   \n",
              "\n",
              "   CoapplicantIncome  LoanAmount  Loan_Amount_Term  Credit_History  \\\n",
              "1             1508.0       128.0             360.0             1.0   \n",
              "2                0.0        66.0             360.0             1.0   \n",
              "3             2358.0       120.0             360.0             1.0   \n",
              "4                0.0       141.0             360.0             1.0   \n",
              "5             4196.0       267.0             360.0             1.0   \n",
              "\n",
              "   Property_Area  Loan_Status  \n",
              "1              1            1  \n",
              "2              2            2  \n",
              "3              2            2  \n",
              "4              2            2  \n",
              "5              2            2  "
            ],
            "text/html": [
              "\n",
              "  <div id=\"df-f3a85565-e344-4b37-9c78-836fe8b88407\">\n",
              "    <div class=\"colab-df-container\">\n",
              "      <div>\n",
              "<style scoped>\n",
              "    .dataframe tbody tr th:only-of-type {\n",
              "        vertical-align: middle;\n",
              "    }\n",
              "\n",
              "    .dataframe tbody tr th {\n",
              "        vertical-align: top;\n",
              "    }\n",
              "\n",
              "    .dataframe thead th {\n",
              "        text-align: right;\n",
              "    }\n",
              "</style>\n",
              "<table border=\"1\" class=\"dataframe\">\n",
              "  <thead>\n",
              "    <tr style=\"text-align: right;\">\n",
              "      <th></th>\n",
              "      <th>Gender</th>\n",
              "      <th>Married</th>\n",
              "      <th>Dependents</th>\n",
              "      <th>Education</th>\n",
              "      <th>Self_Employed</th>\n",
              "      <th>ApplicantIncome</th>\n",
              "      <th>CoapplicantIncome</th>\n",
              "      <th>LoanAmount</th>\n",
              "      <th>Loan_Amount_Term</th>\n",
              "      <th>Credit_History</th>\n",
              "      <th>Property_Area</th>\n",
              "      <th>Loan_Status</th>\n",
              "    </tr>\n",
              "  </thead>\n",
              "  <tbody>\n",
              "    <tr>\n",
              "      <th>1</th>\n",
              "      <td>2</td>\n",
              "      <td>2</td>\n",
              "      <td>1</td>\n",
              "      <td>2</td>\n",
              "      <td>2</td>\n",
              "      <td>4583</td>\n",
              "      <td>1508.0</td>\n",
              "      <td>128.0</td>\n",
              "      <td>360.0</td>\n",
              "      <td>1.0</td>\n",
              "      <td>1</td>\n",
              "      <td>1</td>\n",
              "    </tr>\n",
              "    <tr>\n",
              "      <th>2</th>\n",
              "      <td>2</td>\n",
              "      <td>2</td>\n",
              "      <td>0</td>\n",
              "      <td>2</td>\n",
              "      <td>1</td>\n",
              "      <td>3000</td>\n",
              "      <td>0.0</td>\n",
              "      <td>66.0</td>\n",
              "      <td>360.0</td>\n",
              "      <td>1.0</td>\n",
              "      <td>2</td>\n",
              "      <td>2</td>\n",
              "    </tr>\n",
              "    <tr>\n",
              "      <th>3</th>\n",
              "      <td>2</td>\n",
              "      <td>2</td>\n",
              "      <td>0</td>\n",
              "      <td>1</td>\n",
              "      <td>2</td>\n",
              "      <td>2583</td>\n",
              "      <td>2358.0</td>\n",
              "      <td>120.0</td>\n",
              "      <td>360.0</td>\n",
              "      <td>1.0</td>\n",
              "      <td>2</td>\n",
              "      <td>2</td>\n",
              "    </tr>\n",
              "    <tr>\n",
              "      <th>4</th>\n",
              "      <td>2</td>\n",
              "      <td>1</td>\n",
              "      <td>0</td>\n",
              "      <td>2</td>\n",
              "      <td>2</td>\n",
              "      <td>6000</td>\n",
              "      <td>0.0</td>\n",
              "      <td>141.0</td>\n",
              "      <td>360.0</td>\n",
              "      <td>1.0</td>\n",
              "      <td>2</td>\n",
              "      <td>2</td>\n",
              "    </tr>\n",
              "    <tr>\n",
              "      <th>5</th>\n",
              "      <td>2</td>\n",
              "      <td>2</td>\n",
              "      <td>2</td>\n",
              "      <td>2</td>\n",
              "      <td>1</td>\n",
              "      <td>5417</td>\n",
              "      <td>4196.0</td>\n",
              "      <td>267.0</td>\n",
              "      <td>360.0</td>\n",
              "      <td>1.0</td>\n",
              "      <td>2</td>\n",
              "      <td>2</td>\n",
              "    </tr>\n",
              "  </tbody>\n",
              "</table>\n",
              "</div>\n",
              "      <button class=\"colab-df-convert\" onclick=\"convertToInteractive('df-f3a85565-e344-4b37-9c78-836fe8b88407')\"\n",
              "              title=\"Convert this dataframe to an interactive table.\"\n",
              "              style=\"display:none;\">\n",
              "        \n",
              "  <svg xmlns=\"http://www.w3.org/2000/svg\" height=\"24px\"viewBox=\"0 0 24 24\"\n",
              "       width=\"24px\">\n",
              "    <path d=\"M0 0h24v24H0V0z\" fill=\"none\"/>\n",
              "    <path d=\"M18.56 5.44l.94 2.06.94-2.06 2.06-.94-2.06-.94-.94-2.06-.94 2.06-2.06.94zm-11 1L8.5 8.5l.94-2.06 2.06-.94-2.06-.94L8.5 2.5l-.94 2.06-2.06.94zm10 10l.94 2.06.94-2.06 2.06-.94-2.06-.94-.94-2.06-.94 2.06-2.06.94z\"/><path d=\"M17.41 7.96l-1.37-1.37c-.4-.4-.92-.59-1.43-.59-.52 0-1.04.2-1.43.59L10.3 9.45l-7.72 7.72c-.78.78-.78 2.05 0 2.83L4 21.41c.39.39.9.59 1.41.59.51 0 1.02-.2 1.41-.59l7.78-7.78 2.81-2.81c.8-.78.8-2.07 0-2.86zM5.41 20L4 18.59l7.72-7.72 1.47 1.35L5.41 20z\"/>\n",
              "  </svg>\n",
              "      </button>\n",
              "      \n",
              "  <style>\n",
              "    .colab-df-container {\n",
              "      display:flex;\n",
              "      flex-wrap:wrap;\n",
              "      gap: 12px;\n",
              "    }\n",
              "\n",
              "    .colab-df-convert {\n",
              "      background-color: #E8F0FE;\n",
              "      border: none;\n",
              "      border-radius: 50%;\n",
              "      cursor: pointer;\n",
              "      display: none;\n",
              "      fill: #1967D2;\n",
              "      height: 32px;\n",
              "      padding: 0 0 0 0;\n",
              "      width: 32px;\n",
              "    }\n",
              "\n",
              "    .colab-df-convert:hover {\n",
              "      background-color: #E2EBFA;\n",
              "      box-shadow: 0px 1px 2px rgba(60, 64, 67, 0.3), 0px 1px 3px 1px rgba(60, 64, 67, 0.15);\n",
              "      fill: #174EA6;\n",
              "    }\n",
              "\n",
              "    [theme=dark] .colab-df-convert {\n",
              "      background-color: #3B4455;\n",
              "      fill: #D2E3FC;\n",
              "    }\n",
              "\n",
              "    [theme=dark] .colab-df-convert:hover {\n",
              "      background-color: #434B5C;\n",
              "      box-shadow: 0px 1px 3px 1px rgba(0, 0, 0, 0.15);\n",
              "      filter: drop-shadow(0px 1px 2px rgba(0, 0, 0, 0.3));\n",
              "      fill: #FFFFFF;\n",
              "    }\n",
              "  </style>\n",
              "\n",
              "      <script>\n",
              "        const buttonEl =\n",
              "          document.querySelector('#df-f3a85565-e344-4b37-9c78-836fe8b88407 button.colab-df-convert');\n",
              "        buttonEl.style.display =\n",
              "          google.colab.kernel.accessAllowed ? 'block' : 'none';\n",
              "\n",
              "        async function convertToInteractive(key) {\n",
              "          const element = document.querySelector('#df-f3a85565-e344-4b37-9c78-836fe8b88407');\n",
              "          const dataTable =\n",
              "            await google.colab.kernel.invokeFunction('convertToInteractive',\n",
              "                                                     [key], {});\n",
              "          if (!dataTable) return;\n",
              "\n",
              "          const docLinkHtml = 'Like what you see? Visit the ' +\n",
              "            '<a target=\"_blank\" href=https://colab.research.google.com/notebooks/data_table.ipynb>data table notebook</a>'\n",
              "            + ' to learn more about interactive tables.';\n",
              "          element.innerHTML = '';\n",
              "          dataTable['output_type'] = 'display_data';\n",
              "          await google.colab.output.renderOutput(dataTable, element);\n",
              "          const docLink = document.createElement('div');\n",
              "          docLink.innerHTML = docLinkHtml;\n",
              "          element.appendChild(docLink);\n",
              "        }\n",
              "      </script>\n",
              "    </div>\n",
              "  </div>\n",
              "  "
            ]
          },
          "metadata": {},
          "execution_count": 15
        }
      ]
    },
    {
      "cell_type": "markdown",
      "source": [
        "**splitting dependent and independent variable**"
      ],
      "metadata": {
        "id": "P0sd39hZ3Fy4"
      }
    },
    {
      "cell_type": "code",
      "source": [
        "x=df.drop('Loan_Status',axis=1)\n",
        "y=df['Loan_Status']"
      ],
      "metadata": {
        "id": "uHbvGYwR1Dj7"
      },
      "execution_count": 16,
      "outputs": []
    },
    {
      "cell_type": "markdown",
      "source": [
        "**Resampling for balancing the data**"
      ],
      "metadata": {
        "id": "-sH6gHgP3jQb"
      }
    },
    {
      "cell_type": "code",
      "source": [
        "sm=SMOTE()\n",
        "x_sm,y_sm = sm.fit_resample(x,y)"
      ],
      "metadata": {
        "id": "W2YnQAAX1G3E"
      },
      "execution_count": 17,
      "outputs": []
    },
    {
      "cell_type": "markdown",
      "source": [
        "**Visualizing dependent variable**"
      ],
      "metadata": {
        "id": "Ur8Roqro3njA"
      }
    },
    {
      "cell_type": "code",
      "source": [
        "print('Before Resampling {}'.format(y.shape))\n",
        "print('After Resampling {}'.format(y_sm.shape))\n",
        "plt.figure(figsize=(10,8))\n",
        "plt.subplot(121)\n",
        "y.value_counts().plot(kind='pie',autopct = '%.2f%%',colors=['orange','y'])\n",
        "plt.subplot(122)\n",
        "y_sm.value_counts().plot(kind='pie',autopct = '%.2f%%',colors=['orange','y'])\n",
        "plt.show()"
      ],
      "metadata": {
        "colab": {
          "base_uri": "https://localhost:8080/",
          "height": 320
        },
        "id": "czy5mpcD1KPr",
        "outputId": "5fc5173d-01d8-45ac-cff6-640ebcb70b88"
      },
      "execution_count": 19,
      "outputs": [
        {
          "output_type": "stream",
          "name": "stdout",
          "text": [
            "Before Resampling (565,)\n",
            "After Resampling (790,)\n"
          ]
        },
        {
          "output_type": "display_data",
          "data": {
            "text/plain": [
              "<Figure size 720x576 with 2 Axes>"
            ],
            "image/png": "[encoded data removed]"
          },
          "metadata": {}
        }
      ]
    },
    {
      "cell_type": "markdown",
      "source": [
        "**Splitting test and train data**"
      ],
      "metadata": {
        "id": "eJe0gOPo3t7A"
      }
    },
    {
      "cell_type": "code",
      "source": [
        "xtrain,xtest,ytrain,ytest=train_test_split(x_sm,y_sm,test_size=0.2,random_state=10)"
      ],
      "metadata": {
        "id": "847C2ncO1N2t"
      },
      "execution_count": 20,
      "outputs": []
    },
    {
      "cell_type": "markdown",
      "source": [
        "**Shape after splitting**"
      ],
      "metadata": {
        "id": "Bdk5k-Ug3ysl"
      }
    },
    {
      "cell_type": "code",
      "source": [
        "print('Shape of xtrain {}'.format(xtrain.shape))\n",
        "print('Shape of ytrain {}'.format(ytrain.shape))\n",
        "print('Shape of xtest {}'.format(xtest.shape))\n",
        "print('Shape of ytest {}'.format(ytest.shape))"
      ],
      "metadata": {
        "colab": {
          "base_uri": "https://localhost:8080/"
        },
        "id": "l7XVTd9h1SsP",
        "outputId": "3e496a14-18e2-456c-f7bb-044ce4e53210"
      },
      "execution_count": 22,
      "outputs": [
        {
          "output_type": "stream",
          "name": "stdout",
          "text": [
            "Shape of xtrain (632, 11)\n",
            "Shape of ytrain (632,)\n",
            "Shape of xtest (158, 11)\n",
            "Shape of ytest (158,)\n"
          ]
        }
      ]
    },
    {
      "cell_type": "markdown",
      "source": [
        "**Logistic regression model**"
      ],
      "metadata": {
        "id": "OFJyMael4BKE"
      }
    },
    {
      "cell_type": "code",
      "source": [
        "def logistic_reg(xtrain,xtest,ytrain,ytest):\n",
        "    lr=LogisticRegression(solver='liblinear')\n",
        "    lr.fit(xtrain,ytrain)\n",
        "    ypred=lr.predict(xtest)\n",
        "    print('***LogisticRegression***')\n",
        "    print('Confusion matrix')\n",
        "    print(confusion_matrix(ytest,ypred))\n",
        "    print('Classification report')\n",
        "    print(classification_report(ytest,ypred))\n",
        "    print('f1_score : {}'.format(f1_score(ytest,ypred)))"
      ],
      "metadata": {
        "id": "CuJVqj8u1Ya_"
      },
      "execution_count": 23,
      "outputs": []
    },
    {
      "cell_type": "markdown",
      "source": [
        "**RandomForestClassifier model**"
      ],
      "metadata": {
        "id": "XmEAbNxM4FyL"
      }
    },
    {
      "cell_type": "code",
      "source": [
        "def random_forest(xtrain,xtest,ytrain,ytest):\n",
        "    rf=RandomForestClassifier()\n",
        "    rf.fit(xtrain,ytrain)\n",
        "    ypred=rf.predict(xtest)\n",
        "    print('***RandomForestClassifier***')\n",
        "    print('Confusion matrix')\n",
        "    print(confusion_matrix(ytest,ypred))\n",
        "    print('Classification report')\n",
        "    print(classification_report(ytest,ypred))\n",
        "    print('f1_score : {}'.format(f1_score(ytest,ypred)))"
      ],
      "metadata": {
        "id": "csjopDoA1VrU"
      },
      "execution_count": 24,
      "outputs": []
    },
    {
      "cell_type": "markdown",
      "source": [
        "**GradientBoostingClassifier model**"
      ],
      "metadata": {
        "id": "mFx1Offg4OQK"
      }
    },
    {
      "cell_type": "code",
      "source": [
        "def g_boosting(xtrain,xtest,ytrain,ytest):\n",
        "    gb=GradientBoostingClassifier()\n",
        "    gb.fit(xtrain,ytrain)\n",
        "    ypred=gb.predict(xtest)\n",
        "    print('***GradientBoostingClassifier***')\n",
        "    print('Confusion matrix')\n",
        "    print(confusion_matrix(ytest,ypred))\n",
        "    print('Classification report')\n",
        "    print(classification_report(ytest,ypred))\n",
        "    print('f1_score : {}'.format(f1_score(ytest,ypred)))"
      ],
      "metadata": {
        "id": "2a4993PB1e1m"
      },
      "execution_count": 25,
      "outputs": []
    },
    {
      "cell_type": "markdown",
      "source": [
        "**DecisionTreeClassifierModel**"
      ],
      "metadata": {
        "id": "IdF5PoLO4Uxv"
      }
    },
    {
      "cell_type": "code",
      "source": [
        "def d_tree(xtrain,xtest,ytrain,ytest):\n",
        "    dt=DecisionTreeClassifier()\n",
        "    dt.fit(xtrain,ytrain)\n",
        "    ypred=dt.predict(xtest)\n",
        "    print('***DecisionTreeClassifier***')\n",
        "    print('Confusion matrix')\n",
        "    print(confusion_matrix(ytest,ypred))\n",
        "    print('Classification report')\n",
        "    print(classification_report(ytest,ypred))\n",
        "    print('f1_score : {}'.format(f1_score(ytest,ypred)))"
      ],
      "metadata": {
        "id": "pct9zhcC1jgh"
      },
      "execution_count": 26,
      "outputs": []
    },
    {
      "cell_type": "markdown",
      "source": [
        "**Comparing all models**"
      ],
      "metadata": {
        "id": "G8A3rCS04eBb"
      }
    },
    {
      "cell_type": "code",
      "source": [
        "def compare_model(xtrain,xtest,ytrain,ytest):\n",
        "    logistic_reg(xtrain,xtest,ytrain,ytest)\n",
        "    print('-'*100)\n",
        "    random_forest(xtrain,xtest,ytrain,ytest)\n",
        "    print('-'*100)\n",
        "    g_boosting(xtrain,xtest,ytrain,ytest)\n",
        "    print('-'*100)\n",
        "    d_tree(xtrain,xtest,ytrain,ytest)"
      ],
      "metadata": {
        "id": "V_nREdww1rP2"
      },
      "execution_count": 27,
      "outputs": []
    },
    {
      "cell_type": "code",
      "source": [
        "compare_model(xtrain,xtest,ytrain,ytest)"
      ],
      "metadata": {
        "colab": {
          "base_uri": "https://localhost:8080/"
        },
        "id": "xjBlZWv61vgI",
        "outputId": "3af79014-def0-47d8-cc54-17138c593c72"
      },
      "execution_count": 28,
      "outputs": [
        {
          "output_type": "stream",
          "name": "stdout",
          "text": [
            "***LogisticRegression***\n",
            "Confusion matrix\n",
            "[[64  8]\n",
            " [19 67]]\n",
            "Classification report\n",
            "              precision    recall  f1-score   support\n",
            "\n",
            "           1       0.77      0.89      0.83        72\n",
            "           2       0.89      0.78      0.83        86\n",
            "\n",
            "    accuracy                           0.83       158\n",
            "   macro avg       0.83      0.83      0.83       158\n",
            "weighted avg       0.84      0.83      0.83       158\n",
            "\n",
            "f1_score : 0.8258064516129032\n",
            "----------------------------------------------------------------------------------------------------\n",
            "***RandomForestClassifier***\n",
            "Confusion matrix\n",
            "[[65  7]\n",
            " [11 75]]\n",
            "Classification report\n",
            "              precision    recall  f1-score   support\n",
            "\n",
            "           1       0.86      0.90      0.88        72\n",
            "           2       0.91      0.87      0.89        86\n",
            "\n",
            "    accuracy                           0.89       158\n",
            "   macro avg       0.88      0.89      0.89       158\n",
            "weighted avg       0.89      0.89      0.89       158\n",
            "\n",
            "f1_score : 0.8783783783783783\n",
            "----------------------------------------------------------------------------------------------------\n",
            "***GradientBoostingClassifier***\n",
            "Confusion matrix\n",
            "[[62 10]\n",
            " [19 67]]\n",
            "Classification report\n",
            "              precision    recall  f1-score   support\n",
            "\n",
            "           1       0.77      0.86      0.81        72\n",
            "           2       0.87      0.78      0.82        86\n",
            "\n",
            "    accuracy                           0.82       158\n",
            "   macro avg       0.82      0.82      0.82       158\n",
            "weighted avg       0.82      0.82      0.82       158\n",
            "\n",
            "f1_score : 0.8104575163398693\n",
            "----------------------------------------------------------------------------------------------------\n",
            "***DecisionTreeClassifier***\n",
            "Confusion matrix\n",
            "[[63  9]\n",
            " [37 49]]\n",
            "Classification report\n",
            "              precision    recall  f1-score   support\n",
            "\n",
            "           1       0.63      0.88      0.73        72\n",
            "           2       0.84      0.57      0.68        86\n",
            "\n",
            "    accuracy                           0.71       158\n",
            "   macro avg       0.74      0.72      0.71       158\n",
            "weighted avg       0.75      0.71      0.70       158\n",
            "\n",
            "f1_score : 0.7325581395348838\n"
          ]
        }
      ]
    }
  ]
}